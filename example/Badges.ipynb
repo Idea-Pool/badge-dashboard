{
 "cells": [
  {
   "cell_type": "code",
   "execution_count": null,
   "id": "f62a5f63",
   "metadata": {},
   "outputs": [],
   "source": [
    "! pip install --upgrade pandas numpy openpyxl\n",
    "! pip install --upgrade names py-avataaars cairosvg Pillow"
   ]
  },
  {
   "cell_type": "code",
   "execution_count": 71,
   "id": "33209b98",
   "metadata": {},
   "outputs": [],
   "source": [
    "import pandas as pd\n",
    "import numpy as np\n",
    "import names as ns\n",
    "import datetime as dt\n",
    "import random as rd\n",
    "import py_avataaars as pa\n",
    "import os\n",
    "import glob\n",
    "import shutil\n",
    "import json\n",
    "import PIL"
   ]
  },
  {
   "cell_type": "code",
   "execution_count": 72,
   "id": "52e430ab",
   "metadata": {},
   "outputs": [],
   "source": [
    "n_people = 30\n",
    "genders = [np.random.choice(['male', 'female']) for _ in range(n_people)]\n",
    "names = [ns.get_full_name(gender=genders[i]) for i in range(n_people)]\n",
    "people = tuple(zip(names, genders))\n",
    "badge = 'Start Badge'\n",
    "from_mail = 'The Community'\n",
    "n_levels = 5\n",
    "n_per_level = 5\n",
    "profile_images = 'images/profile'\n",
    "badge_images = 'images/badge'\n",
    "base_badge_image = 'images/base/badge.png'"
   ]
  },
  {
   "cell_type": "code",
   "execution_count": 73,
   "id": "db3ccda3",
   "metadata": {},
   "outputs": [],
   "source": [
    "def clean_images(folder, ext):\n",
    "  files = glob.glob(folder + '/*.' + ext)\n",
    "  for f in files:\n",
    "    os.remove(f)\n",
    "clean_images(profile_images, 'png')\n",
    "clean_images(profile_images, 'jpg')\n",
    "clean_images(badge_images, 'png')"
   ]
  },
  {
   "cell_type": "code",
   "execution_count": 74,
   "id": "fa47ffd9",
   "metadata": {},
   "outputs": [],
   "source": [
    "top_types = {\n",
    "  'female': [t for t in pa.TopType if 'LONG_HAIR' in t.name],\n",
    "  'male': [t for t in pa.TopType if 'SHORT_HAIR' in t.name]\n",
    "}\n",
    "def get_py_avatar_config(gender):\n",
    "  return {\n",
    "    'style': pa.AvatarStyle.CIRCLE,\n",
    "    'skin_color': np.random.choice(pa.SkinColor),\n",
    "    'hair_color': np.random.choice(pa.HairColor),\n",
    "    'facial_hair_type': \n",
    "      pa.FacialHairType.DEFAULT if gender == 'female' else np.random.choice(pa.FacialHairType),\n",
    "    'facial_hair_color': np.random.choice(pa.HairColor),\n",
    "    'top_type': np.random.choice(top_types[gender]),\n",
    "    'mouth_type': pa.MouthType.SMILE,\n",
    "    'eye_type': pa.EyesType.HAPPY,\n",
    "    'eyebrow_type': pa.EyebrowType.DEFAULT,\n",
    "    'nose_type': pa.NoseType.DEFAULT,\n",
    "    'accessories_type': pa.AccessoriesType.DEFAULT,\n",
    "    'clothe_type': np.random.choice(pa.ClotheType),\n",
    "    'clothe_color': np.random.choice(pa.Color),\n",
    "    'clothe_graphic_type': np.random.choice(pa.ClotheGraphicType),\n",
    "  }\n",
    "  "
   ]
  },
  {
   "cell_type": "code",
   "execution_count": 75,
   "id": "0a6b75aa",
   "metadata": {},
   "outputs": [],
   "source": [
    "df_names = []\n",
    "for name, gender in people:\n",
    "    level = np.random.randint(0, n_levels)\n",
    "    n_badge = np.random.randint(level*n_per_level + 1, (level+1)*n_per_level + 1)\n",
    "    # print(f\"{name}: {n_badge} badges (level {level})\")\n",
    "    df_names.extend([name] * n_badge)\n",
    "    \n",
    "    profile_image = profile_images + '/' + name.replace(' ', '_') + '.png'\n",
    "    avatar = pa.PyAvataaar(**get_py_avatar_config(gender))\n",
    "    avatar.render_png_file(profile_image)\n",
    "    \n",
    "    png = PIL.Image.open(profile_image).convert('RGBA')\n",
    "    background = PIL.Image.new('RGBA', png.size, (255, 255, 255))\n",
    "    alpha_composite = PIL.Image.alpha_composite(background, png).convert('RGB')\n",
    "    alpha_composite.save(profile_image.replace('.png', '.jpg'), 'JPEG', quality=80)\n",
    "n_assignments = len(df_names)\n",
    "df_badges = [badge] * n_assignments\n",
    "df_from = [from_mail] * n_assignments"
   ]
  },
  {
   "cell_type": "code",
   "execution_count": 76,
   "id": "8aea14cc",
   "metadata": {},
   "outputs": [],
   "source": [
    "date_from, date_to = dt.date(2019,1,1), dt.date(2022,1,1)\n",
    "dates = [date_from]\n",
    "while date_from != date_to:\n",
    "    date_from += dt.timedelta(days=1)\n",
    "    dates.append(date_from)\n",
    "df_dates = rd.choices(dates, k=n_assignments)"
   ]
  },
  {
   "cell_type": "code",
   "execution_count": 77,
   "id": "015feda1",
   "metadata": {},
   "outputs": [],
   "source": [
    "assignments = pd.DataFrame({\n",
    "    'Date': df_dates,\n",
    "    'From: email': df_from,\n",
    "    'To: full name': df_names,\n",
    "    'Badge': df_badges\n",
    "})\n",
    "assignments.sort_values('Date', inplace=True)"
   ]
  },
  {
   "cell_type": "code",
   "execution_count": null,
   "id": "239c854c",
   "metadata": {},
   "outputs": [],
   "source": [
    "assignments.to_excel('input/badges.xlsx', index=None)"
   ]
  },
  {
   "cell_type": "code",
   "execution_count": null,
   "id": "00af102f",
   "metadata": {},
   "outputs": [],
   "source": [
    "badge_config = {\n",
    "  'name': badge,\n",
    "  'image': '{config}/' + badge_images + '/' + badge + '.png',\n",
    "  'levels': []\n",
    "}\n",
    "shutil.copy(base_badge_image, badge_images + '/' + badge + '.png')\n",
    "for l in range(1, n_levels):\n",
    "  badge_image = badge_images + '/' + badge + '_' + str(l) + '.png'\n",
    "  shutil.copy(base_badge_image, badge_image)\n",
    "  badge_config['levels'].append({\n",
    "    'name': badge + ' #' + str(l+1),\n",
    "    'image': '{config}/' + badge_image,\n",
    "    'n': l * n_per_level,\n",
    "  })\n",
    "config = {\n",
    "  'input': '{config}/input/badges.xlsx',\n",
    "  'output': '{config}/output',\n",
    "  'profileImages': '{config}/' + profile_images,\n",
    "  'title': 'Example Dashboard',\n",
    "  'header': 'Look at these nice badges...',\n",
    "  'ignoreMissingImages': False,\n",
    "  'showUnassignedBadges': False,\n",
    "  'showProfileImages': True,\n",
    "  'blacklist': [],\n",
    "  'badges': [badge_config]\n",
    "}\n",
    "with open('config.json', 'w') as f:\n",
    "  json.dump(config, f)"
   ]
  },
  {
   "cell_type": "code",
   "execution_count": null,
   "id": "af067829",
   "metadata": {},
   "outputs": [],
   "source": []
  }
 ],
 "metadata": {
  "interpreter": {
   "hash": "fb3efdc8921733f19af604e1a9368a6a30d323f228d3fcfdb5da6a3026650beb"
  },
  "kernelspec": {
   "display_name": "Python 3.10.4 64-bit",
   "language": "python",
   "name": "python3"
  },
  "language_info": {
   "codemirror_mode": {
    "name": "ipython",
    "version": 3
   },
   "file_extension": ".py",
   "mimetype": "text/x-python",
   "name": "python",
   "nbconvert_exporter": "python",
   "pygments_lexer": "ipython3",
   "version": "3.10.4"
  }
 },
 "nbformat": 4,
 "nbformat_minor": 5
}
